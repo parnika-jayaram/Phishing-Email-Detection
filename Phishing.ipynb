{
 "cells": [
  {
   "cell_type": "code",
   "execution_count": 1,
   "id": "08e60cd4-a1e1-446a-bbd1-f7a76beda1c0",
   "metadata": {},
   "outputs": [],
   "source": [
    "import pandas as pd\n",
    "data=pd.read_csv(r'Phishing_Email.csv', index_col=[0])"
   ]
  },
  {
   "cell_type": "code",
   "execution_count": 2,
   "id": "be0e430c-15e9-4e5c-bcc8-ee3c076a08c2",
   "metadata": {},
   "outputs": [
    {
     "data": {
      "text/html": [
       "<div>\n",
       "<style scoped>\n",
       "    .dataframe tbody tr th:only-of-type {\n",
       "        vertical-align: middle;\n",
       "    }\n",
       "\n",
       "    .dataframe tbody tr th {\n",
       "        vertical-align: top;\n",
       "    }\n",
       "\n",
       "    .dataframe thead th {\n",
       "        text-align: right;\n",
       "    }\n",
       "</style>\n",
       "<table border=\"1\" class=\"dataframe\">\n",
       "  <thead>\n",
       "    <tr style=\"text-align: right;\">\n",
       "      <th></th>\n",
       "      <th>Email Text</th>\n",
       "      <th>Email Type</th>\n",
       "    </tr>\n",
       "  </thead>\n",
       "  <tbody>\n",
       "    <tr>\n",
       "      <th>0</th>\n",
       "      <td>re : 6 . 1100 , disc : uniformitarianism , re ...</td>\n",
       "      <td>Safe Email</td>\n",
       "    </tr>\n",
       "    <tr>\n",
       "      <th>1</th>\n",
       "      <td>the other side of * galicismos * * galicismo *...</td>\n",
       "      <td>Safe Email</td>\n",
       "    </tr>\n",
       "    <tr>\n",
       "      <th>2</th>\n",
       "      <td>re : equistar deal tickets are you still avail...</td>\n",
       "      <td>Safe Email</td>\n",
       "    </tr>\n",
       "    <tr>\n",
       "      <th>3</th>\n",
       "      <td>\\nHello I am your hot lil horny toy.\\n    I am...</td>\n",
       "      <td>Phishing Email</td>\n",
       "    </tr>\n",
       "    <tr>\n",
       "      <th>4</th>\n",
       "      <td>software at incredibly low prices ( 86 % lower...</td>\n",
       "      <td>Phishing Email</td>\n",
       "    </tr>\n",
       "  </tbody>\n",
       "</table>\n",
       "</div>"
      ],
      "text/plain": [
       "                                          Email Text      Email Type\n",
       "0  re : 6 . 1100 , disc : uniformitarianism , re ...      Safe Email\n",
       "1  the other side of * galicismos * * galicismo *...      Safe Email\n",
       "2  re : equistar deal tickets are you still avail...      Safe Email\n",
       "3  \\nHello I am your hot lil horny toy.\\n    I am...  Phishing Email\n",
       "4  software at incredibly low prices ( 86 % lower...  Phishing Email"
      ]
     },
     "execution_count": 2,
     "metadata": {},
     "output_type": "execute_result"
    }
   ],
   "source": [
    "data.head()"
   ]
  },
  {
   "cell_type": "code",
   "execution_count": 3,
   "id": "caa3410c-5c3e-4c8e-8962-ed049aa0aa1a",
   "metadata": {},
   "outputs": [],
   "source": [
    "data[\"Email Type\"] = data[\"Email Type\"].map({'Safe Email':0, 'Phishing Email':1})"
   ]
  },
  {
   "cell_type": "code",
   "execution_count": 4,
   "id": "6fe7a8db-4fdf-44de-b5aa-d0634e31c2e5",
   "metadata": {},
   "outputs": [
    {
     "data": {
      "text/html": [
       "<div>\n",
       "<style scoped>\n",
       "    .dataframe tbody tr th:only-of-type {\n",
       "        vertical-align: middle;\n",
       "    }\n",
       "\n",
       "    .dataframe tbody tr th {\n",
       "        vertical-align: top;\n",
       "    }\n",
       "\n",
       "    .dataframe thead th {\n",
       "        text-align: right;\n",
       "    }\n",
       "</style>\n",
       "<table border=\"1\" class=\"dataframe\">\n",
       "  <thead>\n",
       "    <tr style=\"text-align: right;\">\n",
       "      <th></th>\n",
       "      <th>Email Text</th>\n",
       "      <th>Email Type</th>\n",
       "    </tr>\n",
       "  </thead>\n",
       "  <tbody>\n",
       "    <tr>\n",
       "      <th>0</th>\n",
       "      <td>re : 6 . 1100 , disc : uniformitarianism , re ...</td>\n",
       "      <td>0</td>\n",
       "    </tr>\n",
       "    <tr>\n",
       "      <th>1</th>\n",
       "      <td>the other side of * galicismos * * galicismo *...</td>\n",
       "      <td>0</td>\n",
       "    </tr>\n",
       "    <tr>\n",
       "      <th>2</th>\n",
       "      <td>re : equistar deal tickets are you still avail...</td>\n",
       "      <td>0</td>\n",
       "    </tr>\n",
       "    <tr>\n",
       "      <th>3</th>\n",
       "      <td>\\nHello I am your hot lil horny toy.\\n    I am...</td>\n",
       "      <td>1</td>\n",
       "    </tr>\n",
       "    <tr>\n",
       "      <th>4</th>\n",
       "      <td>software at incredibly low prices ( 86 % lower...</td>\n",
       "      <td>1</td>\n",
       "    </tr>\n",
       "  </tbody>\n",
       "</table>\n",
       "</div>"
      ],
      "text/plain": [
       "                                          Email Text  Email Type\n",
       "0  re : 6 . 1100 , disc : uniformitarianism , re ...           0\n",
       "1  the other side of * galicismos * * galicismo *...           0\n",
       "2  re : equistar deal tickets are you still avail...           0\n",
       "3  \\nHello I am your hot lil horny toy.\\n    I am...           1\n",
       "4  software at incredibly low prices ( 86 % lower...           1"
      ]
     },
     "execution_count": 4,
     "metadata": {},
     "output_type": "execute_result"
    }
   ],
   "source": [
    "data.head()"
   ]
  },
  {
   "cell_type": "code",
   "execution_count": 5,
   "id": "63da6d29-fa42-4c7b-b34d-18651ee5a37d",
   "metadata": {},
   "outputs": [
    {
     "data": {
      "text/plain": [
       "0    11322\n",
       "1     7328\n",
       "Name: Email Type, dtype: int64"
      ]
     },
     "execution_count": 5,
     "metadata": {},
     "output_type": "execute_result"
    }
   ],
   "source": [
    "data['Email Type'].value_counts()"
   ]
  },
  {
   "cell_type": "code",
   "execution_count": 6,
   "id": "64844bed-21b5-4d9e-9454-104b0ef674d0",
   "metadata": {},
   "outputs": [],
   "source": [
    "from sklearn.utils import resample\n",
    "majority=data[data[\"Email Type\"]==0]\n",
    "minority=data[data[\"Email Type\"]==1]\n",
    "downsample=resample(majority, replace=False,n_samples=7328, random_state=42)\n",
    "data=pd.concat([downsample, minority])"
   ]
  },
  {
   "cell_type": "code",
   "execution_count": 7,
   "id": "67d31f83-27d7-4ef7-af94-2ad2bb13e4a7",
   "metadata": {},
   "outputs": [
    {
     "data": {
      "text/plain": [
       "0    7328\n",
       "1    7328\n",
       "Name: Email Type, dtype: int64"
      ]
     },
     "execution_count": 7,
     "metadata": {},
     "output_type": "execute_result"
    }
   ],
   "source": [
    "data['Email Type'].value_counts()"
   ]
  },
  {
   "cell_type": "code",
   "execution_count": 8,
   "id": "87ecf45f-85f6-4754-8d30-2042175b2891",
   "metadata": {},
   "outputs": [],
   "source": [
    "from sklearn.model_selection import train_test_split\n",
    "X = data.drop(columns =[ \"Email Type\"], axis=1)\n",
    "Y = data[\"Email Type\"]\n",
    "\n",
    "X_train, X_test, Y_train, Y_test = train_test_split(X, Y,\n",
    "    test_size=0.2, random_state= 42)\n"
   ]
  },
  {
   "cell_type": "code",
   "execution_count": 9,
   "id": "d7e198c4-09b6-44cd-adb2-ad7a2916855f",
   "metadata": {},
   "outputs": [],
   "source": [
    "from sklearn.model_selection import train_test_split\n",
    "from sklearn.feature_extraction.text import TfidfVectorizer\n",
    "from sklearn.feature_selection import SelectPercentile\n",
    "import numpy as np\n",
    "\n",
    "# Assuming you have a DataFrame 'data' with an 'Email Text' column and a 'target' column (0 or 1)\n",
    "\n",
    "# Step 1: Impute missing values\n",
    "data['Email Text'].fillna('', inplace=True)\n",
    "\n",
    "# Step 2: Tokenization is done implicitly by the TF-IDF vectorizer.\n",
    "\n",
    "# Step 3: Text Vectorization (TF-IDF)\n",
    "tv = TfidfVectorizer(sublinear_tf=True, ngram_range=(1, 3), max_features=5000)\n",
    "X = tv.fit_transform(data['Email Text'])\n",
    "\n",
    "\n",
    "# Step 4: Train-Test Split\n",
    "X_train, X_test, y_train, y_test = train_test_split(X, data['Email Type'], test_size=0.2, random_state=42)\n",
    "\n",
    "# Step 5: Feature Selection\n",
    "selector = SelectPercentile(percentile=5)\n",
    "selector.fit(X_train, y_train)\n",
    "X_train = selector.transform(X_train).toarray()\n",
    "X_test = selector.transform(X_test).toarray()\n",
    "\n",
    "# Step 6: Data Type Conversion\n",
    "X_train = X_train.astype(np.float32)\n",
    "y_train = np.array(y_train).astype(np.float32)\n",
    "X_test = X_test.astype(np.float32)\n",
    "y_test = np.array(y_test).astype(np.float32)"
   ]
  },
  {
   "cell_type": "code",
   "execution_count": 10,
   "id": "d4bcc254-56c2-4d5e-a0a1-7c51bb38cc51",
   "metadata": {},
   "outputs": [
    {
     "name": "stdout",
     "output_type": "stream",
     "text": [
      "Epoch 1/100\n",
      "147/147 [==============================] - 2s 2ms/step - loss: 0.6654 - accuracy: 0.6249 - val_loss: 0.5274 - val_accuracy: 0.9424\n",
      "Epoch 2/100\n",
      "147/147 [==============================] - 0s 1ms/step - loss: 0.4216 - accuracy: 0.8436 - val_loss: 0.1935 - val_accuracy: 0.9497\n",
      "Epoch 3/100\n",
      "147/147 [==============================] - 0s 989us/step - loss: 0.2713 - accuracy: 0.9040 - val_loss: 0.1387 - val_accuracy: 0.9539\n",
      "Epoch 4/100\n",
      "147/147 [==============================] - 0s 975us/step - loss: 0.2382 - accuracy: 0.9167 - val_loss: 0.1301 - val_accuracy: 0.9574\n",
      "Epoch 5/100\n",
      "147/147 [==============================] - 0s 966us/step - loss: 0.2198 - accuracy: 0.9229 - val_loss: 0.1217 - val_accuracy: 0.9565\n",
      "Epoch 6/100\n",
      "147/147 [==============================] - 0s 1ms/step - loss: 0.2033 - accuracy: 0.9286 - val_loss: 0.1155 - val_accuracy: 0.9595\n",
      "Epoch 7/100\n",
      "147/147 [==============================] - 0s 931us/step - loss: 0.1966 - accuracy: 0.9294 - val_loss: 0.1143 - val_accuracy: 0.9608\n",
      "Epoch 8/100\n",
      "147/147 [==============================] - 0s 969us/step - loss: 0.1940 - accuracy: 0.9294 - val_loss: 0.1153 - val_accuracy: 0.9578\n",
      "Epoch 9/100\n",
      "147/147 [==============================] - 0s 981us/step - loss: 0.1838 - accuracy: 0.9336 - val_loss: 0.1112 - val_accuracy: 0.9582\n",
      "Epoch 10/100\n",
      "147/147 [==============================] - 0s 1ms/step - loss: 0.1858 - accuracy: 0.9346 - val_loss: 0.1098 - val_accuracy: 0.9595\n",
      "Epoch 11/100\n",
      "147/147 [==============================] - 0s 889us/step - loss: 0.1814 - accuracy: 0.9342 - val_loss: 0.1096 - val_accuracy: 0.9599\n",
      "Epoch 12/100\n",
      "147/147 [==============================] - 0s 936us/step - loss: 0.1729 - accuracy: 0.9363 - val_loss: 0.1089 - val_accuracy: 0.9595\n",
      "Epoch 13/100\n",
      "147/147 [==============================] - 0s 1ms/step - loss: 0.1700 - accuracy: 0.9342 - val_loss: 0.1085 - val_accuracy: 0.9603\n",
      "Epoch 14/100\n",
      "147/147 [==============================] - 0s 1ms/step - loss: 0.1672 - accuracy: 0.9386 - val_loss: 0.1095 - val_accuracy: 0.9603\n",
      "Epoch 15/100\n",
      "147/147 [==============================] - 0s 978us/step - loss: 0.1643 - accuracy: 0.9390 - val_loss: 0.1086 - val_accuracy: 0.9603\n",
      "Epoch 16/100\n",
      "147/147 [==============================] - 0s 921us/step - loss: 0.1644 - accuracy: 0.9345 - val_loss: 0.1088 - val_accuracy: 0.9608\n",
      "Epoch 17/100\n",
      "147/147 [==============================] - 0s 976us/step - loss: 0.1586 - accuracy: 0.9414 - val_loss: 0.1093 - val_accuracy: 0.9599\n",
      "Epoch 18/100\n",
      "147/147 [==============================] - 0s 968us/step - loss: 0.1596 - accuracy: 0.9401 - val_loss: 0.1087 - val_accuracy: 0.9599\n",
      "Epoch 19/100\n",
      "147/147 [==============================] - 0s 1ms/step - loss: 0.1607 - accuracy: 0.9385 - val_loss: 0.1078 - val_accuracy: 0.9608\n",
      "Epoch 20/100\n",
      "147/147 [==============================] - 0s 962us/step - loss: 0.1599 - accuracy: 0.9399 - val_loss: 0.1095 - val_accuracy: 0.9603\n",
      "Epoch 21/100\n",
      "147/147 [==============================] - 0s 993us/step - loss: 0.1580 - accuracy: 0.9383 - val_loss: 0.1117 - val_accuracy: 0.9586\n",
      "Epoch 22/100\n",
      "147/147 [==============================] - 0s 996us/step - loss: 0.1567 - accuracy: 0.9408 - val_loss: 0.1098 - val_accuracy: 0.9612\n",
      "Epoch 23/100\n",
      "147/147 [==============================] - 0s 1ms/step - loss: 0.1540 - accuracy: 0.9430 - val_loss: 0.1095 - val_accuracy: 0.9608\n",
      "Epoch 24/100\n",
      "147/147 [==============================] - 0s 1ms/step - loss: 0.1585 - accuracy: 0.9407 - val_loss: 0.1100 - val_accuracy: 0.9595\n",
      "Epoch 25/100\n",
      "147/147 [==============================] - 0s 1ms/step - loss: 0.1499 - accuracy: 0.9411 - val_loss: 0.1125 - val_accuracy: 0.9578\n",
      "Epoch 26/100\n",
      "147/147 [==============================] - 0s 1ms/step - loss: 0.1522 - accuracy: 0.9414 - val_loss: 0.1094 - val_accuracy: 0.9603\n",
      "Epoch 27/100\n",
      "147/147 [==============================] - 0s 1ms/step - loss: 0.1500 - accuracy: 0.9410 - val_loss: 0.1099 - val_accuracy: 0.9603\n",
      "Epoch 28/100\n",
      "147/147 [==============================] - 0s 989us/step - loss: 0.1479 - accuracy: 0.9436 - val_loss: 0.1126 - val_accuracy: 0.9569\n",
      "Epoch 29/100\n",
      "147/147 [==============================] - 0s 1ms/step - loss: 0.1485 - accuracy: 0.9389 - val_loss: 0.1116 - val_accuracy: 0.9599\n",
      "Epoch 30/100\n",
      "147/147 [==============================] - 0s 973us/step - loss: 0.1408 - accuracy: 0.9423 - val_loss: 0.1119 - val_accuracy: 0.9612\n",
      "Epoch 31/100\n",
      "147/147 [==============================] - 0s 962us/step - loss: 0.1469 - accuracy: 0.9424 - val_loss: 0.1121 - val_accuracy: 0.9591\n",
      "Epoch 32/100\n",
      "147/147 [==============================] - 0s 1ms/step - loss: 0.1434 - accuracy: 0.9436 - val_loss: 0.1126 - val_accuracy: 0.9608\n",
      "Epoch 33/100\n",
      "147/147 [==============================] - 0s 985us/step - loss: 0.1429 - accuracy: 0.9445 - val_loss: 0.1132 - val_accuracy: 0.9586\n",
      "Epoch 34/100\n",
      "147/147 [==============================] - 0s 963us/step - loss: 0.1393 - accuracy: 0.9431 - val_loss: 0.1150 - val_accuracy: 0.9586\n",
      "Epoch 35/100\n",
      "147/147 [==============================] - 0s 1ms/step - loss: 0.1433 - accuracy: 0.9438 - val_loss: 0.1147 - val_accuracy: 0.9599\n",
      "Epoch 36/100\n",
      "147/147 [==============================] - 0s 1ms/step - loss: 0.1400 - accuracy: 0.9451 - val_loss: 0.1132 - val_accuracy: 0.9616\n",
      "Epoch 37/100\n",
      "147/147 [==============================] - 0s 1ms/step - loss: 0.1420 - accuracy: 0.9430 - val_loss: 0.1149 - val_accuracy: 0.9603\n",
      "Epoch 38/100\n",
      "147/147 [==============================] - 0s 964us/step - loss: 0.1417 - accuracy: 0.9442 - val_loss: 0.1147 - val_accuracy: 0.9595\n",
      "Epoch 39/100\n",
      "147/147 [==============================] - 0s 957us/step - loss: 0.1412 - accuracy: 0.9452 - val_loss: 0.1148 - val_accuracy: 0.9574\n",
      "Epoch 40/100\n",
      "147/147 [==============================] - 0s 1ms/step - loss: 0.1348 - accuracy: 0.9458 - val_loss: 0.1153 - val_accuracy: 0.9569\n",
      "Epoch 41/100\n",
      "147/147 [==============================] - 0s 968us/step - loss: 0.1356 - accuracy: 0.9473 - val_loss: 0.1159 - val_accuracy: 0.9569\n",
      "Epoch 42/100\n",
      "147/147 [==============================] - 0s 1ms/step - loss: 0.1378 - accuracy: 0.9423 - val_loss: 0.1157 - val_accuracy: 0.9565\n",
      "Epoch 43/100\n",
      "147/147 [==============================] - 0s 903us/step - loss: 0.1315 - accuracy: 0.9471 - val_loss: 0.1169 - val_accuracy: 0.9569\n",
      "Epoch 44/100\n",
      "147/147 [==============================] - 0s 981us/step - loss: 0.1314 - accuracy: 0.9496 - val_loss: 0.1174 - val_accuracy: 0.9569\n",
      "Epoch 45/100\n",
      "147/147 [==============================] - 0s 1ms/step - loss: 0.1343 - accuracy: 0.9469 - val_loss: 0.1152 - val_accuracy: 0.9582\n",
      "Epoch 46/100\n",
      "147/147 [==============================] - 0s 1ms/step - loss: 0.1299 - accuracy: 0.9452 - val_loss: 0.1182 - val_accuracy: 0.9561\n",
      "Epoch 47/100\n",
      "147/147 [==============================] - 0s 1ms/step - loss: 0.1243 - accuracy: 0.9521 - val_loss: 0.1165 - val_accuracy: 0.9582\n",
      "Epoch 48/100\n",
      "147/147 [==============================] - 0s 1ms/step - loss: 0.1333 - accuracy: 0.9432 - val_loss: 0.1162 - val_accuracy: 0.9595\n",
      "Epoch 49/100\n",
      "147/147 [==============================] - 0s 1ms/step - loss: 0.1311 - accuracy: 0.9470 - val_loss: 0.1234 - val_accuracy: 0.9565\n",
      "Epoch 50/100\n",
      "147/147 [==============================] - 0s 958us/step - loss: 0.1287 - accuracy: 0.9462 - val_loss: 0.1186 - val_accuracy: 0.9582\n",
      "Epoch 51/100\n",
      "147/147 [==============================] - 0s 988us/step - loss: 0.1302 - accuracy: 0.9464 - val_loss: 0.1187 - val_accuracy: 0.9582\n",
      "Epoch 52/100\n",
      "147/147 [==============================] - 0s 966us/step - loss: 0.1255 - accuracy: 0.9491 - val_loss: 0.1192 - val_accuracy: 0.9565\n",
      "Epoch 53/100\n",
      "147/147 [==============================] - 0s 1ms/step - loss: 0.1300 - accuracy: 0.9463 - val_loss: 0.1201 - val_accuracy: 0.9578\n",
      "Epoch 54/100\n",
      "147/147 [==============================] - 0s 1ms/step - loss: 0.1258 - accuracy: 0.9469 - val_loss: 0.1203 - val_accuracy: 0.9599\n",
      "Epoch 55/100\n",
      "147/147 [==============================] - 0s 956us/step - loss: 0.1299 - accuracy: 0.9451 - val_loss: 0.1203 - val_accuracy: 0.9578\n",
      "Epoch 56/100\n",
      "147/147 [==============================] - 0s 931us/step - loss: 0.1323 - accuracy: 0.9469 - val_loss: 0.1209 - val_accuracy: 0.9569\n",
      "Epoch 57/100\n",
      "147/147 [==============================] - 0s 954us/step - loss: 0.1258 - accuracy: 0.9502 - val_loss: 0.1207 - val_accuracy: 0.9582\n",
      "Epoch 58/100\n",
      "147/147 [==============================] - 0s 969us/step - loss: 0.1250 - accuracy: 0.9490 - val_loss: 0.1224 - val_accuracy: 0.9565\n",
      "Epoch 59/100\n",
      "147/147 [==============================] - 0s 941us/step - loss: 0.1260 - accuracy: 0.9489 - val_loss: 0.1210 - val_accuracy: 0.9586\n",
      "Epoch 60/100\n",
      "147/147 [==============================] - 0s 969us/step - loss: 0.1252 - accuracy: 0.9488 - val_loss: 0.1214 - val_accuracy: 0.9595\n",
      "Epoch 61/100\n",
      "147/147 [==============================] - 0s 1ms/step - loss: 0.1276 - accuracy: 0.9475 - val_loss: 0.1265 - val_accuracy: 0.9582\n",
      "Epoch 62/100\n",
      "147/147 [==============================] - 0s 949us/step - loss: 0.1204 - accuracy: 0.9502 - val_loss: 0.1254 - val_accuracy: 0.9591\n",
      "Epoch 63/100\n",
      "147/147 [==============================] - 0s 989us/step - loss: 0.1199 - accuracy: 0.9505 - val_loss: 0.1330 - val_accuracy: 0.9574\n",
      "Epoch 64/100\n",
      "147/147 [==============================] - 0s 1ms/step - loss: 0.1216 - accuracy: 0.9500 - val_loss: 0.1291 - val_accuracy: 0.9595\n",
      "Epoch 65/100\n",
      "147/147 [==============================] - 0s 1ms/step - loss: 0.1193 - accuracy: 0.9506 - val_loss: 0.1297 - val_accuracy: 0.9599\n",
      "Epoch 66/100\n",
      "147/147 [==============================] - 0s 1ms/step - loss: 0.1185 - accuracy: 0.9499 - val_loss: 0.1318 - val_accuracy: 0.9595\n",
      "Epoch 67/100\n",
      "147/147 [==============================] - 0s 1ms/step - loss: 0.1174 - accuracy: 0.9488 - val_loss: 0.1327 - val_accuracy: 0.9582\n",
      "Epoch 68/100\n",
      "147/147 [==============================] - 0s 982us/step - loss: 0.1182 - accuracy: 0.9502 - val_loss: 0.1280 - val_accuracy: 0.9557\n",
      "Epoch 69/100\n",
      "147/147 [==============================] - 0s 997us/step - loss: 0.1189 - accuracy: 0.9514 - val_loss: 0.1318 - val_accuracy: 0.9591\n",
      "Epoch 70/100\n",
      "147/147 [==============================] - 0s 934us/step - loss: 0.1223 - accuracy: 0.9478 - val_loss: 0.1327 - val_accuracy: 0.9569\n",
      "Epoch 71/100\n",
      "147/147 [==============================] - 0s 999us/step - loss: 0.1167 - accuracy: 0.9508 - val_loss: 0.1324 - val_accuracy: 0.9578\n",
      "Epoch 72/100\n",
      "147/147 [==============================] - 0s 1ms/step - loss: 0.1188 - accuracy: 0.9484 - val_loss: 0.1319 - val_accuracy: 0.9582\n",
      "Epoch 73/100\n",
      "147/147 [==============================] - 0s 986us/step - loss: 0.1179 - accuracy: 0.9508 - val_loss: 0.1359 - val_accuracy: 0.9574\n",
      "Epoch 74/100\n",
      "147/147 [==============================] - 0s 1ms/step - loss: 0.1155 - accuracy: 0.9499 - val_loss: 0.1365 - val_accuracy: 0.9582\n",
      "Epoch 75/100\n",
      "147/147 [==============================] - 0s 1ms/step - loss: 0.1205 - accuracy: 0.9482 - val_loss: 0.1324 - val_accuracy: 0.9569\n",
      "Epoch 76/100\n",
      "147/147 [==============================] - 0s 966us/step - loss: 0.1150 - accuracy: 0.9524 - val_loss: 0.1355 - val_accuracy: 0.9561\n",
      "Epoch 77/100\n",
      "147/147 [==============================] - 0s 982us/step - loss: 0.1101 - accuracy: 0.9564 - val_loss: 0.1444 - val_accuracy: 0.9582\n",
      "Epoch 78/100\n",
      "147/147 [==============================] - 0s 1ms/step - loss: 0.1136 - accuracy: 0.9504 - val_loss: 0.1432 - val_accuracy: 0.9569\n",
      "Epoch 79/100\n",
      "147/147 [==============================] - 0s 1ms/step - loss: 0.1220 - accuracy: 0.9496 - val_loss: 0.1405 - val_accuracy: 0.9586\n",
      "Epoch 80/100\n",
      "147/147 [==============================] - 0s 1ms/step - loss: 0.1173 - accuracy: 0.9510 - val_loss: 0.1448 - val_accuracy: 0.9608\n",
      "Epoch 81/100\n",
      "147/147 [==============================] - 0s 936us/step - loss: 0.1155 - accuracy: 0.9494 - val_loss: 0.1400 - val_accuracy: 0.9574\n",
      "Epoch 82/100\n",
      "147/147 [==============================] - 0s 987us/step - loss: 0.1099 - accuracy: 0.9531 - val_loss: 0.1463 - val_accuracy: 0.9595\n",
      "Epoch 83/100\n",
      "147/147 [==============================] - 0s 989us/step - loss: 0.1155 - accuracy: 0.9523 - val_loss: 0.1504 - val_accuracy: 0.9582\n",
      "Epoch 84/100\n",
      "147/147 [==============================] - 0s 997us/step - loss: 0.1106 - accuracy: 0.9520 - val_loss: 0.1483 - val_accuracy: 0.9591\n",
      "Epoch 85/100\n",
      "147/147 [==============================] - 0s 1ms/step - loss: 0.1208 - accuracy: 0.9476 - val_loss: 0.1503 - val_accuracy: 0.9603\n",
      "Epoch 86/100\n",
      "147/147 [==============================] - 0s 974us/step - loss: 0.1175 - accuracy: 0.9511 - val_loss: 0.1491 - val_accuracy: 0.9569\n",
      "Epoch 87/100\n",
      "147/147 [==============================] - 0s 962us/step - loss: 0.1111 - accuracy: 0.9529 - val_loss: 0.1522 - val_accuracy: 0.9582\n",
      "Epoch 88/100\n",
      "147/147 [==============================] - 0s 1ms/step - loss: 0.1153 - accuracy: 0.9505 - val_loss: 0.1516 - val_accuracy: 0.9569\n",
      "Epoch 89/100\n",
      "147/147 [==============================] - 0s 1ms/step - loss: 0.1147 - accuracy: 0.9523 - val_loss: 0.1571 - val_accuracy: 0.9591\n",
      "Epoch 90/100\n",
      "147/147 [==============================] - 0s 1ms/step - loss: 0.1117 - accuracy: 0.9531 - val_loss: 0.1571 - val_accuracy: 0.9595\n",
      "Epoch 91/100\n",
      "147/147 [==============================] - 0s 961us/step - loss: 0.1115 - accuracy: 0.9508 - val_loss: 0.1665 - val_accuracy: 0.9591\n",
      "Epoch 92/100\n",
      "147/147 [==============================] - 0s 1ms/step - loss: 0.1082 - accuracy: 0.9560 - val_loss: 0.1587 - val_accuracy: 0.9552\n",
      "Epoch 93/100\n",
      "147/147 [==============================] - 0s 1ms/step - loss: 0.1084 - accuracy: 0.9501 - val_loss: 0.1620 - val_accuracy: 0.9582\n",
      "Epoch 94/100\n",
      "147/147 [==============================] - 0s 951us/step - loss: 0.1106 - accuracy: 0.9547 - val_loss: 0.1614 - val_accuracy: 0.9582\n",
      "Epoch 95/100\n",
      "147/147 [==============================] - 0s 999us/step - loss: 0.1109 - accuracy: 0.9567 - val_loss: 0.1625 - val_accuracy: 0.9578\n",
      "Epoch 96/100\n",
      "147/147 [==============================] - 0s 1ms/step - loss: 0.1110 - accuracy: 0.9518 - val_loss: 0.1625 - val_accuracy: 0.9574\n",
      "Epoch 97/100\n",
      "147/147 [==============================] - 0s 1ms/step - loss: 0.1065 - accuracy: 0.9548 - val_loss: 0.1667 - val_accuracy: 0.9557\n",
      "Epoch 98/100\n",
      "147/147 [==============================] - 0s 1ms/step - loss: 0.1106 - accuracy: 0.9522 - val_loss: 0.1658 - val_accuracy: 0.9557\n",
      "Epoch 99/100\n",
      "147/147 [==============================] - 0s 1ms/step - loss: 0.1088 - accuracy: 0.9531 - val_loss: 0.1656 - val_accuracy: 0.9582\n",
      "Epoch 100/100\n",
      "147/147 [==============================] - 0s 979us/step - loss: 0.1115 - accuracy: 0.9524 - val_loss: 0.1653 - val_accuracy: 0.9586\n"
     ]
    }
   ],
   "source": [
    "#Dependencies\n",
    "import keras\n",
    "from keras.models import Sequential\n",
    "from keras.layers import Dense,Dropout\n",
    "# Neural network\n",
    "\n",
    "model = Sequential()\n",
    "model.add(Dense(16, input_dim=250, activation='relu'))\n",
    "model.add(Dropout(0.4))\n",
    "model.add(Dense(12, activation='relu'))\n",
    "model.add(Dropout(0.4))\n",
    "model.add(Dense(8, activation='relu'))\n",
    "model.add(Dropout(0.4))\n",
    "model.add(Dense(1, activation='sigmoid'))\n",
    "model.compile(loss='binary_crossentropy', optimizer='adam', metrics=['accuracy'])\n",
    "\n",
    "history = model.fit(X_train, Y_train, epochs=100, batch_size=64, validation_split=0.2)\n"
   ]
  },
  {
   "cell_type": "code",
   "execution_count": 11,
   "id": "d188ba5d-9181-4d8c-8eb9-8df7a630d674",
   "metadata": {},
   "outputs": [
    {
     "data": {
      "image/png": "[encoded data removed]",
      "text/plain": [
       "<Figure size 640x480 with 1 Axes>"
      ]
     },
     "metadata": {},
     "output_type": "display_data"
    },
    {
     "data": {
      "image/png": "[encoded data removed]",
      "text/plain": [
       "<Figure size 640x480 with 1 Axes>"
      ]
     },
     "metadata": {},
     "output_type": "display_data"
    }
   ],
   "source": [
    "import matplotlib.pyplot as plt\n",
    "\n",
    "plt.plot(history.history['loss'], label='Training Loss')\n",
    "plt.plot(history.history['val_loss'], label='Validation Loss')\n",
    "plt.legend()\n",
    "plt.show()\n",
    "\n",
    "# Plot the accuracy\n",
    "plt.plot(history.history['accuracy'], label='Training Accuracy')\n",
    "plt.plot(history.history['val_accuracy'], label='Validation Accuracy')\n",
    "plt.legend()\n",
    "plt.show()"
   ]
  },
  {
   "cell_type": "code",
   "execution_count": 12,
   "id": "e2971475-9c3f-4b43-9fe5-edcda9668967",
   "metadata": {},
   "outputs": [],
   "source": [
    "model.save(\"FirstANNModel.h5\")"
   ]
  },
  {
   "cell_type": "code",
   "execution_count": 13,
   "id": "ce1fc66d-88d6-4479-9a88-b72a122dd2e7",
   "metadata": {},
   "outputs": [],
   "source": [
    "from keras.models import load_model\n",
    "model=load_model(\"FirstANNModel.h5\")"
   ]
  },
  {
   "cell_type": "code",
   "execution_count": 14,
   "id": "003e0428-8ec9-4c40-a9fa-b5dbd40b44cb",
   "metadata": {},
   "outputs": [
    {
     "name": "stdout",
     "output_type": "stream",
     "text": [
      "92/92 [==============================] - 0s 452us/step\n"
     ]
    }
   ],
   "source": [
    "y_pred_prob = model.predict(X_test)\n",
    "y_pred = (y_pred_prob > 0.5).astype(int)"
   ]
  },
  {
   "cell_type": "code",
   "execution_count": 15,
   "id": "9934b4c4-80d3-4ce7-a4f0-f5d41fa9a4ee",
   "metadata": {},
   "outputs": [
    {
     "name": "stdout",
     "output_type": "stream",
     "text": [
      "              precision    recall  f1-score   support\n",
      "\n",
      "           0       0.96      0.93      0.94      1464\n",
      "           1       0.93      0.96      0.94      1468\n",
      "\n",
      "    accuracy                           0.94      2932\n",
      "   macro avg       0.94      0.94      0.94      2932\n",
      "weighted avg       0.94      0.94      0.94      2932\n",
      "\n"
     ]
    }
   ],
   "source": [
    "from sklearn.metrics import classification_report\n",
    "report = classification_report(y_true=Y_test, y_pred=y_pred)\n",
    "print(report)"
   ]
  },
  {
   "cell_type": "code",
   "execution_count": 16,
   "id": "834bf08c-d836-4354-89be-190f998a9da4",
   "metadata": {},
   "outputs": [
    {
     "name": "stdout",
     "output_type": "stream",
     "text": [
      "92/92 [==============================] - 0s 424us/step\n",
      "92/92 [==============================] - 0s 403us/step\n",
      "Classification report:\n",
      "\n",
      "               precision    recall  f1-score   support\n",
      "\n",
      "           0       0.96      0.93      0.94      1464\n",
      "           1       0.93      0.96      0.94      1468\n",
      "\n",
      "    accuracy                           0.94      2932\n",
      "   macro avg       0.94      0.94      0.94      2932\n",
      "weighted avg       0.94      0.94      0.94      2932\n",
      "\n",
      "\n",
      "Confusion Matrix:\n",
      "\n"
     ]
    },
    {
     "data": {
      "text/plain": [
       "<Axes: >"
      ]
     },
     "execution_count": 16,
     "metadata": {},
     "output_type": "execute_result"
    },
    {
     "data": {
      "image/png": "[encoded data removed]",
      "text/plain": [
       "<Figure size 640x480 with 2 Axes>"
      ]
     },
     "metadata": {},
     "output_type": "display_data"
    }
   ],
   "source": [
    "from sklearn.metrics import classification_report, confusion_matrix, accuracy_score\n",
    "import seaborn as sns\n",
    "pred=model.predict(X_test)\n",
    "\n",
    "threshold = 0.5\n",
    "predictions = np.where(pred < threshold, 0, 1)\n",
    "class_report = classification_report(Y_test, predictions)\n",
    "conf_matrix = confusion_matrix(Y_test,predictions)\n",
    "acc = accuracy_score(Y_test, predictions)\n",
    "Y_pred = np.array(model.predict(X_test))\n",
    "conf_mat = pd.DataFrame(confusion_matrix(Y_test, predictions),\n",
    "                        columns=[\"Pred.Negative\", \"Pred.Positive\"],\n",
    "                        index=['Act.Negative', \"Act.Positive\"])\n",
    "\n",
    "print(\"Classification report:\\n\\n\", class_report)\n",
    "\n",
    "# visualize confusion matrix with seaborn heatmap\n",
    "print(\"\\nConfusion Matrix:\\n\")\n",
    "cm_matrix = pd.DataFrame(data=conf_matrix, columns=['Actual Positive:1', 'Actual Negative:0'],\n",
    "                                 index=['Predict Positive:1', 'Predict Negative:0'])\n",
    "\n",
    "sns.heatmap(cm_matrix, annot=True, fmt='d', cmap='Purples')"
   ]
  },
  {
   "cell_type": "code",
   "execution_count": 17,
   "id": "922139f1-214f-4a62-ad03-ef3a2d6d4056",
   "metadata": {},
   "outputs": [],
   "source": [
    "import tensorflow as tf\n",
    "\n",
    "model = tf.keras.models.load_model('FirstANNModel.h5')"
   ]
  },
  {
   "cell_type": "code",
   "execution_count": 21,
   "id": "67c93170-6503-4d7f-887b-0d1312dd8e7e",
   "metadata": {},
   "outputs": [
    {
     "name": "stdout",
     "output_type": "stream",
     "text": [
      "Enter the content of the email:  hi\n"
     ]
    },
    {
     "name": "stdout",
     "output_type": "stream",
     "text": [
      "1/1 [==============================] - 0s 42ms/step\n",
      "This email is detected to be a phishing email.\n"
     ]
    }
   ],
   "source": [
    "import pandas as pd\n",
    "import numpy as np\n",
    "from sklearn.feature_extraction.text import TfidfVectorizer\n",
    "from sklearn.feature_selection import SelectPercentile\n",
    "from keras.models import load_model\n",
    "\n",
    "# Load the trained model\n",
    "model = load_model(\"FirstANNModel.h5\")\n",
    "\n",
    "# Load the TF-IDF vectorizer used during training\n",
    "vectorizer = TfidfVectorizer(sublinear_tf=True, ngram_range=(1, 3), max_features=250)\n",
    "\n",
    "# Fit the vectorizer to your training data\n",
    "x_train = data['Email Text']\n",
    "y_train = data['Email Type']\n",
    "\n",
    "vectorizer.fit(x_train)\n",
    "\n",
    "# Input from the user\n",
    "user_input = input(\"Enter the content of the email: \")\n",
    "\n",
    "# Preprocess the user input using the pre-fitted vectorizer\n",
    "user_input = vectorizer.transform([user_input]).toarray()\n",
    "user_input = user_input.reshape(1, -1)  # Reshape to match the model's expected input shape\n",
    "\n",
    "# Make a prediction\n",
    "prediction_prob = model.predict(user_input)\n",
    "prediction = (prediction_prob > 0.5).astype(int)\n",
    "\n",
    "# Interpret the prediction\n",
    "if prediction[0] == 1:  # Note the [0] to access the first (and only) element of the array\n",
    "    print(\"This email is detected to be a phishing email.\")\n",
    "else:\n",
    "    print(\"This email is detected to be a safe email.\")\n"
   ]
  }
 ],
 "metadata": {
  "kernelspec": {
   "display_name": "Python 3 (ipykernel)",
   "language": "python",
   "name": "python3"
  },
  "language_info": {
   "codemirror_mode": {
    "name": "ipython",
    "version": 3
   },
   "file_extension": ".py",
   "mimetype": "text/x-python",
   "name": "python",
   "nbconvert_exporter": "python",
   "pygments_lexer": "ipython3",
   "version": "3.10.6"
  }
 },
 "nbformat": 4,
 "nbformat_minor": 5
}
